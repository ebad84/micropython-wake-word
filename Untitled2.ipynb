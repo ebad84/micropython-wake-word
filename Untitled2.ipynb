{
 "cells": [
  {
   "cell_type": "code",
   "execution_count": 141,
   "id": "e1bc319a",
   "metadata": {},
   "outputs": [
    {
     "name": "stdout",
     "output_type": "stream",
     "text": [
      "Accuracy: 0.8571428571428571\n"
     ]
    }
   ],
   "source": [
    "import pandas as pd\n",
    "from sklearn.preprocessing import StandardScaler\n",
    "from sklearn.model_selection import train_test_split\n",
    "from sklearn.svm import SVC\n",
    "import m2cgen as m2c\n",
    "\n",
    "# Load data\n",
    "df = pd.read_csv(\"result_on_and_off.csv\")\n",
    "\n",
    "# Split data into features and labels\n",
    "X = df.iloc[:, :-1]\n",
    "y = df['text'].replace(\"on\", 1).replace(\"off\", 0).replace(\"other\", 2)\n",
    "X\n",
    "y\n",
    "# # Preprocess the features\n",
    "# scaler = StandardScaler()\n",
    "# X = scaler.fit_transform(X)\n",
    "# X\n",
    "\n",
    "# Split data into train and test sets\n",
    "X_train, X_test, y_train, y_test = train_test_split(X, y, test_size=0.3)\n",
    "\n",
    "# Train the SVM model\n",
    "clf = SVC(probability=True)\n",
    "clf.fit(X, y)\n",
    "\n",
    "# Evaluate the SVM model\n",
    "accuracy = clf.score(X_test, y_test)\n",
    "print(\"Accuracy:\", accuracy)\n",
    "\n",
    "# Convert the SVM model to a code snippet using m2cgen\n",
    "code = m2c.export_to_python(clf)\n",
    "# print(\"Code Snippet:\")\n",
    "# print(code)\n",
    "with open('svm10.py', 'w') as f:\n",
    "    f.write(code)"
   ]
  },
  {
   "cell_type": "code",
   "execution_count": 142,
   "id": "73c7472c",
   "metadata": {},
   "outputs": [],
   "source": [
    "!python-minimizer svm10.py -o svm_min10.py"
   ]
  },
  {
   "cell_type": "code",
   "execution_count": 143,
   "id": "a532f24c",
   "metadata": {},
   "outputs": [
    {
     "name": "stderr",
     "output_type": "stream",
     "text": [
      "C:\\Users\\DarkShadowMD\\AppData\\Local\\Programs\\Python\\Python311\\Lib\\site-packages\\sklearn\\base.py:420: UserWarning: X does not have valid feature names, but SVC was fitted with feature names\n",
      "  warnings.warn(\n"
     ]
    },
    {
     "data": {
      "text/plain": [
       "array([[0.45384256, 0.26025483, 0.28590261]])"
      ]
     },
     "execution_count": 143,
     "metadata": {},
     "output_type": "execute_result"
    }
   ],
   "source": [
    "clf.predict_proba([\n",
    "[26.44, 26.63, 26.65, 26.41, 26.79, 26.83, 26.81, 26.78, 26.75, 26.66, 26.43, 26.56, 26.61, 26.89, 26.76, 26.61, 26.57, 26.71, 26.93, 26.92, 26.34, 26.27, 26.65, 26.52, 26.58, 26.57, 26.79, 26.76, 26.8, 26.57, 26.87, 26.62, 26.69, 26.93, 26.53, 26.58, 26.44, 26.62, 26.7, 26.65]    \n",
    "    \n",
    "    \n",
    "    \n",
    "])"
   ]
  },
  {
   "cell_type": "code",
   "execution_count": null,
   "id": "e47a27c4",
   "metadata": {},
   "outputs": [],
   "source": []
  },
  {
   "cell_type": "code",
   "execution_count": null,
   "id": "1a046caa",
   "metadata": {},
   "outputs": [],
   "source": []
  }
 ],
 "metadata": {
  "kernelspec": {
   "display_name": "Python 3 (ipykernel)",
   "language": "python",
   "name": "python3"
  },
  "language_info": {
   "codemirror_mode": {
    "name": "ipython",
    "version": 3
   },
   "file_extension": ".py",
   "mimetype": "text/x-python",
   "name": "python",
   "nbconvert_exporter": "python",
   "pygments_lexer": "ipython3",
   "version": "3.11.2"
  }
 },
 "nbformat": 4,
 "nbformat_minor": 5
}
